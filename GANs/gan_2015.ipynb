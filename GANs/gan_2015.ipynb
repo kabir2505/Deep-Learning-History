{
  "cells": [
    {
      "cell_type": "code",
      "execution_count": 1,
      "metadata": {
        "id": "OPnjYnnOtodB"
      },
      "outputs": [],
      "source": [
        "import torch\n",
        "import torch.nn as nn\n",
        "import torchvision\n",
        "import torch.optim as optim\n",
        "import torchvision.datasets as datasets\n",
        "from torch.utils.data import DataLoader\n",
        "import torchvision.transforms as transforms"
      ]
    },
    {
      "cell_type": "markdown",
      "metadata": {
        "id": "GF-7kffStodD"
      },
      "source": []
    },
    {
      "cell_type": "code",
      "execution_count": 2,
      "metadata": {
        "id": "LS0_3ZEOtodD"
      },
      "outputs": [],
      "source": [
        "class Discriminator(nn.Module):\n",
        "    def __init__(self,in_features):\n",
        "        super().__init__()\n",
        "        self.layer=nn.Sequential(\n",
        "            nn.Linear(in_features,128),\n",
        "            nn.LeakyReLU(0.01),\n",
        "            nn.Linear(128,1),\n",
        "            nn.Sigmoid()\n",
        "        )\n",
        "\n",
        "    def forward(self,x):\n",
        "        return self.layer(x)\n",
        "\n",
        "class Generator(nn.Module):\n",
        "    def __init__(self,z_dim,img_dim):\n",
        "        super().__init__()\n",
        "        self.layer=nn.Sequential(\n",
        "            nn.Linear(in_features=z_dim,out_features=256),\n",
        "            nn.LeakyReLU(0.01),\n",
        "            nn.Linear(256,img_dim),\n",
        "            nn.Tanh()\n",
        "        )\n",
        "\n",
        "    def forward(self,z):\n",
        "        return self.layer(z)"
      ]
    },
    {
      "cell_type": "code",
      "execution_count": 3,
      "metadata": {
        "colab": {
          "base_uri": "https://localhost:8080/"
        },
        "id": "dwPORS9ftodE",
        "outputId": "332db104-faa5-4f73-e389-ea74d8727ac5"
      },
      "outputs": [
        {
          "output_type": "stream",
          "name": "stdout",
          "text": [
            "Downloading http://yann.lecun.com/exdb/mnist/train-images-idx3-ubyte.gz\n",
            "Failed to download (trying next):\n",
            "HTTP Error 404: Not Found\n",
            "\n",
            "Downloading https://ossci-datasets.s3.amazonaws.com/mnist/train-images-idx3-ubyte.gz\n",
            "Downloading https://ossci-datasets.s3.amazonaws.com/mnist/train-images-idx3-ubyte.gz to dataset/MNIST/raw/train-images-idx3-ubyte.gz\n"
          ]
        },
        {
          "output_type": "stream",
          "name": "stderr",
          "text": [
            "100%|██████████| 9.91M/9.91M [00:00<00:00, 14.7MB/s]\n"
          ]
        },
        {
          "output_type": "stream",
          "name": "stdout",
          "text": [
            "Extracting dataset/MNIST/raw/train-images-idx3-ubyte.gz to dataset/MNIST/raw\n",
            "\n",
            "Downloading http://yann.lecun.com/exdb/mnist/train-labels-idx1-ubyte.gz\n",
            "Failed to download (trying next):\n",
            "HTTP Error 404: Not Found\n",
            "\n",
            "Downloading https://ossci-datasets.s3.amazonaws.com/mnist/train-labels-idx1-ubyte.gz\n",
            "Downloading https://ossci-datasets.s3.amazonaws.com/mnist/train-labels-idx1-ubyte.gz to dataset/MNIST/raw/train-labels-idx1-ubyte.gz\n"
          ]
        },
        {
          "output_type": "stream",
          "name": "stderr",
          "text": [
            "100%|██████████| 28.9k/28.9k [00:00<00:00, 496kB/s]\n"
          ]
        },
        {
          "output_type": "stream",
          "name": "stdout",
          "text": [
            "Extracting dataset/MNIST/raw/train-labels-idx1-ubyte.gz to dataset/MNIST/raw\n",
            "\n",
            "Downloading http://yann.lecun.com/exdb/mnist/t10k-images-idx3-ubyte.gz\n",
            "Failed to download (trying next):\n",
            "HTTP Error 404: Not Found\n",
            "\n",
            "Downloading https://ossci-datasets.s3.amazonaws.com/mnist/t10k-images-idx3-ubyte.gz\n",
            "Downloading https://ossci-datasets.s3.amazonaws.com/mnist/t10k-images-idx3-ubyte.gz to dataset/MNIST/raw/t10k-images-idx3-ubyte.gz\n"
          ]
        },
        {
          "output_type": "stream",
          "name": "stderr",
          "text": [
            "100%|██████████| 1.65M/1.65M [00:00<00:00, 4.45MB/s]\n"
          ]
        },
        {
          "output_type": "stream",
          "name": "stdout",
          "text": [
            "Extracting dataset/MNIST/raw/t10k-images-idx3-ubyte.gz to dataset/MNIST/raw\n",
            "\n",
            "Downloading http://yann.lecun.com/exdb/mnist/t10k-labels-idx1-ubyte.gz\n",
            "Failed to download (trying next):\n",
            "HTTP Error 404: Not Found\n",
            "\n",
            "Downloading https://ossci-datasets.s3.amazonaws.com/mnist/t10k-labels-idx1-ubyte.gz\n",
            "Downloading https://ossci-datasets.s3.amazonaws.com/mnist/t10k-labels-idx1-ubyte.gz to dataset/MNIST/raw/t10k-labels-idx1-ubyte.gz\n"
          ]
        },
        {
          "output_type": "stream",
          "name": "stderr",
          "text": [
            "100%|██████████| 4.54k/4.54k [00:00<00:00, 5.43MB/s]\n"
          ]
        },
        {
          "output_type": "stream",
          "name": "stdout",
          "text": [
            "Extracting dataset/MNIST/raw/t10k-labels-idx1-ubyte.gz to dataset/MNIST/raw\n",
            "\n",
            "Epoch [0/50] Batch 0/1875                         Loss D: 0.7011, loss G: 0.6961\n",
            "Epoch [1/50] Batch 0/1875                         Loss D: 0.3853, loss G: 1.3299\n",
            "Epoch [2/50] Batch 0/1875                         Loss D: 0.4635, loss G: 1.2151\n",
            "Epoch [3/50] Batch 0/1875                         Loss D: 0.4966, loss G: 1.3047\n",
            "Epoch [4/50] Batch 0/1875                         Loss D: 0.5348, loss G: 1.0329\n",
            "Epoch [5/50] Batch 0/1875                         Loss D: 0.8313, loss G: 0.6798\n",
            "Epoch [6/50] Batch 0/1875                         Loss D: 0.4822, loss G: 1.1556\n",
            "Epoch [7/50] Batch 0/1875                         Loss D: 0.7982, loss G: 0.8491\n",
            "Epoch [8/50] Batch 0/1875                         Loss D: 0.5948, loss G: 1.1800\n",
            "Epoch [9/50] Batch 0/1875                         Loss D: 0.4638, loss G: 1.3574\n",
            "Epoch [10/50] Batch 0/1875                         Loss D: 0.3500, loss G: 2.0126\n",
            "Epoch [11/50] Batch 0/1875                         Loss D: 0.4402, loss G: 1.3088\n",
            "Epoch [12/50] Batch 0/1875                         Loss D: 0.5586, loss G: 1.0459\n",
            "Epoch [13/50] Batch 0/1875                         Loss D: 0.4645, loss G: 1.7160\n",
            "Epoch [14/50] Batch 0/1875                         Loss D: 0.6490, loss G: 0.9916\n",
            "Epoch [15/50] Batch 0/1875                         Loss D: 0.5633, loss G: 1.0330\n",
            "Epoch [16/50] Batch 0/1875                         Loss D: 0.5032, loss G: 1.4770\n",
            "Epoch [17/50] Batch 0/1875                         Loss D: 0.5801, loss G: 1.1521\n",
            "Epoch [18/50] Batch 0/1875                         Loss D: 0.2848, loss G: 2.5751\n",
            "Epoch [19/50] Batch 0/1875                         Loss D: 0.4516, loss G: 1.9074\n",
            "Epoch [20/50] Batch 0/1875                         Loss D: 0.5777, loss G: 1.1606\n",
            "Epoch [21/50] Batch 0/1875                         Loss D: 0.4392, loss G: 1.9326\n",
            "Epoch [22/50] Batch 0/1875                         Loss D: 0.5551, loss G: 1.5520\n",
            "Epoch [23/50] Batch 0/1875                         Loss D: 0.5763, loss G: 1.8389\n",
            "Epoch [24/50] Batch 0/1875                         Loss D: 0.3979, loss G: 1.7328\n",
            "Epoch [25/50] Batch 0/1875                         Loss D: 0.3856, loss G: 1.3218\n",
            "Epoch [26/50] Batch 0/1875                         Loss D: 0.7772, loss G: 0.8315\n",
            "Epoch [27/50] Batch 0/1875                         Loss D: 0.5229, loss G: 1.7265\n",
            "Epoch [28/50] Batch 0/1875                         Loss D: 0.5979, loss G: 1.1407\n",
            "Epoch [29/50] Batch 0/1875                         Loss D: 0.5938, loss G: 1.5255\n",
            "Epoch [30/50] Batch 0/1875                         Loss D: 0.6388, loss G: 1.5112\n",
            "Epoch [31/50] Batch 0/1875                         Loss D: 0.5650, loss G: 1.6680\n",
            "Epoch [32/50] Batch 0/1875                         Loss D: 0.5830, loss G: 1.2767\n",
            "Epoch [33/50] Batch 0/1875                         Loss D: 0.4879, loss G: 1.3554\n",
            "Epoch [34/50] Batch 0/1875                         Loss D: 0.6371, loss G: 1.6583\n",
            "Epoch [35/50] Batch 0/1875                         Loss D: 0.5602, loss G: 1.4686\n",
            "Epoch [36/50] Batch 0/1875                         Loss D: 0.7237, loss G: 1.3939\n",
            "Epoch [37/50] Batch 0/1875                         Loss D: 0.6834, loss G: 0.9310\n",
            "Epoch [38/50] Batch 0/1875                         Loss D: 0.5076, loss G: 1.5779\n",
            "Epoch [39/50] Batch 0/1875                         Loss D: 0.5043, loss G: 1.1962\n",
            "Epoch [40/50] Batch 0/1875                         Loss D: 0.5328, loss G: 1.2986\n",
            "Epoch [41/50] Batch 0/1875                         Loss D: 0.5335, loss G: 1.3287\n",
            "Epoch [42/50] Batch 0/1875                         Loss D: 0.5448, loss G: 1.3157\n",
            "Epoch [43/50] Batch 0/1875                         Loss D: 0.5562, loss G: 1.5975\n",
            "Epoch [44/50] Batch 0/1875                         Loss D: 0.5731, loss G: 1.1658\n",
            "Epoch [45/50] Batch 0/1875                         Loss D: 0.6940, loss G: 1.0066\n",
            "Epoch [46/50] Batch 0/1875                         Loss D: 0.5460, loss G: 1.3176\n",
            "Epoch [47/50] Batch 0/1875                         Loss D: 0.4498, loss G: 1.5482\n",
            "Epoch [48/50] Batch 0/1875                         Loss D: 0.5000, loss G: 1.4092\n",
            "Epoch [49/50] Batch 0/1875                         Loss D: 0.6180, loss G: 1.3654\n"
          ]
        }
      ],
      "source": [
        "device=\"cuda\" if torch.cuda.is_available() else \"cpu\"\n",
        "lr = 3e-4\n",
        "z_dim = 64\n",
        "image_dim = 28 * 28 * 1  # 784\n",
        "batch_size = 32\n",
        "num_epochs = 50\n",
        "\n",
        "disc=Discriminator(image_dim).to(device)\n",
        "gen=Generator(z_dim,image_dim).to(device)\n",
        "\n",
        "noise=torch.rand(size=(batch_size,z_dim)).to(device)\n",
        "\n",
        "\n",
        "transforms_=torchvision.transforms.Compose(\n",
        "   [ torchvision.transforms.ToTensor(),\n",
        "    torchvision.transforms.Normalize(mean=(0.5,),std=(0.5,))]\n",
        ")\n",
        "\n",
        "dataset = datasets.MNIST(root=\"dataset/\", transform=transforms_, download=True)\n",
        "data_loader = DataLoader(dataset, batch_size=batch_size, shuffle=True)\n",
        "\n",
        "disc_opt=optim.Adam(disc.parameters(),lr=lr)\n",
        "gen_opt=optim.Adam(params=gen.parameters(),lr=lr)\n",
        "\n",
        "criterion=nn.BCELoss()\n",
        "\n",
        "for epoch in range(num_epochs):\n",
        "    for batch,(x,y) in enumerate(data_loader):\n",
        "        x=x.view(-1,784).to(device)\n",
        "        batch_size=x.shape[0]\n",
        "\n",
        "        ###Training the discriminator\n",
        "        noise=torch.randn(size=(batch_size,z_dim)).to(device)\n",
        "        fake=gen(noise)\n",
        "        disc_real=disc(x) # D(x)\n",
        "        lossD_real=criterion(disc_real,torch.ones_like(disc_real)) # log(D(x))\n",
        "        disc_fake=disc(fake) #D(G(x))\n",
        "        lossD_fake=criterion(disc_fake,torch.zeros_like(disc_fake)) # log(1-D(G(x)))\n",
        "        lossD=(lossD_real + lossD_fake) / 2\n",
        "\n",
        "        disc.zero_grad()\n",
        "        lossD.backward(retain_graph=True) #llows the generator’s computation graph to be reused after the discriminator’s backward pass\n",
        "        disc_opt.step()\n",
        "\n",
        "\n",
        "        ## Train the generator min log(1 - D(G(z))) <-> max log(D(G(z))\n",
        "        output = disc(fake).view(-1)\n",
        "        lossG = criterion(output, torch.ones_like(output))\n",
        "        gen.zero_grad()\n",
        "        lossG.backward()\n",
        "        gen_opt.step()\n",
        "        if batch == 0:\n",
        "            print(\n",
        "                f\"Epoch [{epoch}/{num_epochs}] Batch {batch}/{len(data_loader)} \\\n",
        "                        Loss D: {lossD:.4f}, loss G: {lossG:.4f}\"\n",
        "            )\n",
        "\n"
      ]
    },
    {
      "cell_type": "markdown",
      "metadata": {
        "id": "vKVPIZtrtodF"
      },
      "source": [
        "Why `retain_graph=True` :  \n",
        "The fake data here is generated by the generator. If we don’t retain the graph, PyTorch will delete it after calculating the gradients for the discriminator. But we still need that graph later when we train the generator."
      ]
    },
    {
      "cell_type": "code",
      "execution_count": 4,
      "metadata": {
        "colab": {
          "base_uri": "https://localhost:8080/",
          "height": 607
        },
        "id": "r3suTveItodF",
        "outputId": "8b3216ea-8826-42a9-d128-268a0035bc80"
      },
      "outputs": [
        {
          "output_type": "display_data",
          "data": {
            "text/plain": [
              "<Figure size 600x600 with 16 Axes>"
            ],
            "image/png": "[encoded data removed]"
          },
          "metadata": {}
        }
      ],
      "source": [
        "import matplotlib.pyplot as plt\n",
        "\n",
        "noise = torch.randn(size=(16, z_dim)).to(device)\n",
        "\n",
        "gen.eval()\n",
        "with torch.no_grad():\n",
        "    fake_images = gen(noise).reshape(-1, 1, 28, 28).cpu()\n",
        "fig, axes = plt.subplots(4, 4, figsize=(6, 6))\n",
        "for i, ax in enumerate(axes.flatten()):\n",
        "    ax.imshow(fake_images[i].squeeze(), cmap=\"gray\")\n",
        "    ax.axis(\"off\")\n",
        "\n",
        "plt.tight_layout()\n",
        "plt.show()"
      ]
    }
  ],
  "metadata": {
    "kernelspec": {
      "display_name": "Python 3",
      "name": "python3"
    },
    "language_info": {
      "codemirror_mode": {
        "name": "ipython",
        "version": 3
      },
      "file_extension": ".py",
      "mimetype": "text/x-python",
      "name": "python",
      "nbconvert_exporter": "python",
      "pygments_lexer": "ipython3",
      "version": "3.11.10"
    },
    "colab": {
      "provenance": [],
      "gpuType": "T4"
    },
    "accelerator": "GPU"
  },
  "nbformat": 4,
  "nbformat_minor": 0
}